{
 "cells": [
  {
   "cell_type": "code",
   "execution_count": 3,
   "id": "848c34d4",
   "metadata": {},
   "outputs": [],
   "source": [
    "class Node():\n",
    "    name=\"master\"\n",
    "    \n",
    "    def __init__(self,provisioning:dict[str,str]):\n",
    "        self.details:dict[str,str]=provisioning\n",
    "    def display_provisioning(self):\n",
    "        print(self.details)"
   ]
  },
  {
   "cell_type": "code",
   "execution_count": 4,
   "id": "82920a77",
   "metadata": {},
   "outputs": [],
   "source": [
    "m = Node({\"cpu\":\"300m\",\"ram\":\"50gb\",\"disk\":\"500gb\"})"
   ]
  },
  {
   "cell_type": "code",
   "execution_count": 6,
   "id": "27425595",
   "metadata": {},
   "outputs": [
    {
     "name": "stdout",
     "output_type": "stream",
     "text": [
      "{'cpu': '300m', 'ram': '50gb', 'disk': '500gb'}\n"
     ]
    },
    {
     "data": {
      "text/plain": [
       "('master', None)"
      ]
     },
     "execution_count": 6,
     "metadata": {},
     "output_type": "execute_result"
    }
   ],
   "source": [
    "m.name,m.display_provisioning()"
   ]
  },
  {
   "cell_type": "code",
   "execution_count": null,
   "id": "1fb8c59f",
   "metadata": {},
   "outputs": [],
   "source": []
  }
 ],
 "metadata": {
  "kernelspec": {
   "display_name": "Python 3 (ipykernel)",
   "language": "python",
   "name": "python3"
  },
  "language_info": {
   "codemirror_mode": {
    "name": "ipython",
    "version": 3
   },
   "file_extension": ".py",
   "mimetype": "text/x-python",
   "name": "python",
   "nbconvert_exporter": "python",
   "pygments_lexer": "ipython3",
   "version": "3.11.2"
  }
 },
 "nbformat": 4,
 "nbformat_minor": 5
}
