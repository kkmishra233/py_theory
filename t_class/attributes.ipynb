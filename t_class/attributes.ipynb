{
 "cells": [
  {
   "cell_type": "code",
   "execution_count": 1,
   "id": "7c1b7cd7",
   "metadata": {},
   "outputs": [],
   "source": [
    "class Nodes():\n",
    "    name=\"Master Node\"\n",
    "    ram=\"32GB\"\n",
    "    cpu=\"4000m\""
   ]
  },
  {
   "cell_type": "code",
   "execution_count": 2,
   "id": "d57f12f8",
   "metadata": {},
   "outputs": [
    {
     "data": {
      "text/plain": [
       "type"
      ]
     },
     "execution_count": 2,
     "metadata": {},
     "output_type": "execute_result"
    }
   ],
   "source": [
    "type(Nodes)"
   ]
  },
  {
   "cell_type": "code",
   "execution_count": 3,
   "id": "7b080a10",
   "metadata": {},
   "outputs": [],
   "source": [
    "n=Nodes()"
   ]
  },
  {
   "cell_type": "code",
   "execution_count": 4,
   "id": "acd49247",
   "metadata": {},
   "outputs": [
    {
     "data": {
      "text/plain": [
       "__main__.Nodes"
      ]
     },
     "execution_count": 4,
     "metadata": {},
     "output_type": "execute_result"
    }
   ],
   "source": [
    "type(n)"
   ]
  },
  {
   "cell_type": "code",
   "execution_count": 5,
   "id": "11de456a",
   "metadata": {},
   "outputs": [
    {
     "data": {
      "text/plain": [
       "'Master Node'"
      ]
     },
     "execution_count": 5,
     "metadata": {},
     "output_type": "execute_result"
    }
   ],
   "source": [
    "n.name"
   ]
  },
  {
   "cell_type": "code",
   "execution_count": 7,
   "id": "be62120c",
   "metadata": {},
   "outputs": [
    {
     "data": {
      "text/plain": [
       "'4000m'"
      ]
     },
     "execution_count": 7,
     "metadata": {},
     "output_type": "execute_result"
    }
   ],
   "source": [
    "n.cpu"
   ]
  },
  {
   "cell_type": "code",
   "execution_count": 9,
   "id": "82f50d7d",
   "metadata": {},
   "outputs": [
    {
     "data": {
      "text/plain": [
       "'Master Node'"
      ]
     },
     "execution_count": 9,
     "metadata": {},
     "output_type": "execute_result"
    }
   ],
   "source": [
    "getattr(n,'name')"
   ]
  },
  {
   "cell_type": "code",
   "execution_count": 10,
   "id": "0daf007e",
   "metadata": {},
   "outputs": [],
   "source": [
    "setattr(n,\"ram\",\"16GB\")"
   ]
  },
  {
   "cell_type": "code",
   "execution_count": 11,
   "id": "a994a21b",
   "metadata": {},
   "outputs": [
    {
     "data": {
      "text/plain": [
       "'16GB'"
      ]
     },
     "execution_count": 11,
     "metadata": {},
     "output_type": "execute_result"
    }
   ],
   "source": [
    "getattr(n,\"ram\")"
   ]
  },
  {
   "cell_type": "code",
   "execution_count": 17,
   "id": "b1dba45b",
   "metadata": {},
   "outputs": [],
   "source": [
    "Nodes.disk=\"500gb\""
   ]
  },
  {
   "cell_type": "code",
   "execution_count": 18,
   "id": "097a407d",
   "metadata": {},
   "outputs": [
    {
     "data": {
      "text/plain": [
       "mappingproxy({'__module__': '__main__',\n",
       "              'name': 'Master Node',\n",
       "              'ram': '32GB',\n",
       "              'cpu': '4000m',\n",
       "              '__dict__': <attribute '__dict__' of 'Nodes' objects>,\n",
       "              '__weakref__': <attribute '__weakref__' of 'Nodes' objects>,\n",
       "              '__doc__': None,\n",
       "              'disk': '500gb'})"
      ]
     },
     "execution_count": 18,
     "metadata": {},
     "output_type": "execute_result"
    }
   ],
   "source": [
    "Nodes.__dict__"
   ]
  },
  {
   "cell_type": "code",
   "execution_count": null,
   "id": "0275bf28",
   "metadata": {},
   "outputs": [],
   "source": []
  }
 ],
 "metadata": {
  "kernelspec": {
   "display_name": "Python 3 (ipykernel)",
   "language": "python",
   "name": "python3"
  },
  "language_info": {
   "codemirror_mode": {
    "name": "ipython",
    "version": 3
   },
   "file_extension": ".py",
   "mimetype": "text/x-python",
   "name": "python",
   "nbconvert_exporter": "python",
   "pygments_lexer": "ipython3",
   "version": "3.11.2"
  }
 },
 "nbformat": 4,
 "nbformat_minor": 5
}
