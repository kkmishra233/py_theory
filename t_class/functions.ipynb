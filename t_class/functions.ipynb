{
 "cells": [
  {
   "cell_type": "code",
   "execution_count": 7,
   "id": "cbb1b9f9",
   "metadata": {},
   "outputs": [],
   "source": [
    "class Node():\n",
    "    name=\"master\"\n",
    "    cpu_cores=\"3000m\"\n",
    "    \n",
    "    def cpu():\n",
    "        print(f\"cpu detail is : {Node.cpu_cores}\")"
   ]
  },
  {
   "cell_type": "code",
   "execution_count": 8,
   "id": "8098f105",
   "metadata": {},
   "outputs": [
    {
     "data": {
      "text/plain": [
       "<function __main__.Node.cpu()>"
      ]
     },
     "execution_count": 8,
     "metadata": {},
     "output_type": "execute_result"
    }
   ],
   "source": [
    "Node.cpu"
   ]
  },
  {
   "cell_type": "code",
   "execution_count": 9,
   "id": "1b6f42af",
   "metadata": {},
   "outputs": [
    {
     "name": "stdout",
     "output_type": "stream",
     "text": [
      "cpu detail is : 3000m\n"
     ]
    }
   ],
   "source": [
    "Node.cpu()"
   ]
  },
  {
   "cell_type": "code",
   "execution_count": 10,
   "id": "3221f750",
   "metadata": {},
   "outputs": [
    {
     "data": {
      "text/plain": [
       "<function __main__.Node.cpu()>"
      ]
     },
     "execution_count": 10,
     "metadata": {},
     "output_type": "execute_result"
    }
   ],
   "source": [
    "getattr(Node,\"cpu\")"
   ]
  },
  {
   "cell_type": "code",
   "execution_count": 11,
   "id": "09a20800",
   "metadata": {},
   "outputs": [
    {
     "name": "stdout",
     "output_type": "stream",
     "text": [
      "cpu detail is : 3000m\n"
     ]
    }
   ],
   "source": [
    "getattr(Node,\"cpu\")()"
   ]
  },
  {
   "cell_type": "code",
   "execution_count": null,
   "id": "656a9e64",
   "metadata": {},
   "outputs": [],
   "source": []
  }
 ],
 "metadata": {
  "kernelspec": {
   "display_name": "Python 3 (ipykernel)",
   "language": "python",
   "name": "python3"
  },
  "language_info": {
   "codemirror_mode": {
    "name": "ipython",
    "version": 3
   },
   "file_extension": ".py",
   "mimetype": "text/x-python",
   "name": "python",
   "nbconvert_exporter": "python",
   "pygments_lexer": "ipython3",
   "version": "3.11.2"
  }
 },
 "nbformat": 4,
 "nbformat_minor": 5
}
