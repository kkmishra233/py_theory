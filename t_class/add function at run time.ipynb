{
 "cells": [
  {
   "cell_type": "code",
   "execution_count": 1,
   "id": "0f976e42",
   "metadata": {},
   "outputs": [],
   "source": [
    "class Node():\n",
    "    name=\"master\"\n",
    "    \n",
    "    def __init__(self,provisioning:dict[str,str]):\n",
    "        self.details:dict[str,str]=provisioning\n",
    "    def display_provisioning(self):\n",
    "        print(self.details)\n"
   ]
  },
  {
   "cell_type": "code",
   "execution_count": 2,
   "id": "470162cc",
   "metadata": {},
   "outputs": [],
   "source": [
    "m = Node({\"cpu\":\"300m\",\"ram\":\"50gb\",\"disk\":\"500gb\"})"
   ]
  },
  {
   "cell_type": "code",
   "execution_count": 3,
   "id": "a2c25529",
   "metadata": {},
   "outputs": [
    {
     "name": "stdout",
     "output_type": "stream",
     "text": [
      "{'cpu': '300m', 'ram': '50gb', 'disk': '500gb'}\n"
     ]
    }
   ],
   "source": [
    "m.display_provisioning()"
   ]
  },
  {
   "cell_type": "code",
   "execution_count": 4,
   "id": "fb3caf64",
   "metadata": {},
   "outputs": [
    {
     "data": {
      "text/plain": [
       "{'details': {'cpu': '300m', 'ram': '50gb', 'disk': '500gb'}}"
      ]
     },
     "execution_count": 4,
     "metadata": {},
     "output_type": "execute_result"
    }
   ],
   "source": [
    "m.__dict__"
   ]
  },
  {
   "cell_type": "code",
   "execution_count": 5,
   "id": "991212f5",
   "metadata": {},
   "outputs": [],
   "source": [
    "from types import MethodType\n",
    "m.display_name = MethodType(lambda self: f'Node name is {self.name}' , m)"
   ]
  },
  {
   "cell_type": "code",
   "execution_count": 6,
   "id": "7c332283",
   "metadata": {},
   "outputs": [
    {
     "data": {
      "text/plain": [
       "'Node name is master'"
      ]
     },
     "execution_count": 6,
     "metadata": {},
     "output_type": "execute_result"
    }
   ],
   "source": [
    "m.display_name()"
   ]
  },
  {
   "cell_type": "code",
   "execution_count": 7,
   "id": "8007c985",
   "metadata": {},
   "outputs": [
    {
     "data": {
      "text/plain": [
       "{'details': {'cpu': '300m', 'ram': '50gb', 'disk': '500gb'},\n",
       " 'display_name': <bound method <lambda> of <__main__.Node object at 0x000002020C8FB910>>}"
      ]
     },
     "execution_count": 7,
     "metadata": {},
     "output_type": "execute_result"
    }
   ],
   "source": [
    "m.__dict__"
   ]
  },
  {
   "cell_type": "code",
   "execution_count": null,
   "id": "f76e19c2",
   "metadata": {},
   "outputs": [],
   "source": []
  }
 ],
 "metadata": {
  "kernelspec": {
   "display_name": "Python 3 (ipykernel)",
   "language": "python",
   "name": "python3"
  },
  "language_info": {
   "codemirror_mode": {
    "name": "ipython",
    "version": 3
   },
   "file_extension": ".py",
   "mimetype": "text/x-python",
   "name": "python",
   "nbconvert_exporter": "python",
   "pygments_lexer": "ipython3",
   "version": "3.11.2"
  }
 },
 "nbformat": 4,
 "nbformat_minor": 5
}
