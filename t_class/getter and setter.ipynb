{
 "cells": [
  {
   "cell_type": "code",
   "execution_count": 2,
   "id": "4d680cd0",
   "metadata": {},
   "outputs": [],
   "source": [
    "class Person():\n",
    "    def __init__(self,name):\n",
    "        self._name=name\n",
    "    \n",
    "    @property\n",
    "    def name(self):\n",
    "        print(\"getter is called \")\n",
    "        return self._name\n",
    "    \n",
    "    @name.setter\n",
    "    def name(self,value):\n",
    "        print(\"setter is called\")\n",
    "        self._name=value"
   ]
  },
  {
   "cell_type": "code",
   "execution_count": 3,
   "id": "85b1ee40",
   "metadata": {},
   "outputs": [],
   "source": [
    "p=Person(\"Krishna\")"
   ]
  },
  {
   "cell_type": "code",
   "execution_count": 4,
   "id": "32dc6075",
   "metadata": {},
   "outputs": [
    {
     "name": "stdout",
     "output_type": "stream",
     "text": [
      "getter is called \n"
     ]
    },
    {
     "data": {
      "text/plain": [
       "'Krishna'"
      ]
     },
     "execution_count": 4,
     "metadata": {},
     "output_type": "execute_result"
    }
   ],
   "source": [
    "p.name"
   ]
  },
  {
   "cell_type": "code",
   "execution_count": null,
   "id": "5f0558a1",
   "metadata": {},
   "outputs": [],
   "source": []
  }
 ],
 "metadata": {
  "kernelspec": {
   "display_name": "Python 3 (ipykernel)",
   "language": "python",
   "name": "python3"
  },
  "language_info": {
   "codemirror_mode": {
    "name": "ipython",
    "version": 3
   },
   "file_extension": ".py",
   "mimetype": "text/x-python",
   "name": "python",
   "nbconvert_exporter": "python",
   "pygments_lexer": "ipython3",
   "version": "3.11.2"
  }
 },
 "nbformat": 4,
 "nbformat_minor": 5
}
