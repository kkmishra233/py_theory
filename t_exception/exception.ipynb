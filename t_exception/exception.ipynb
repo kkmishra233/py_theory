{
 "cells": [
  {
   "cell_type": "markdown",
   "id": "073cd5fb",
   "metadata": {},
   "source": [
    "Base Exception:\n",
    "\n",
    "    Exception\n",
    "    \n",
    "    System Exit \n",
    "    \n",
    "    keyboard interrupt \n",
    "    \n",
    "    genertor Exit\n",
    "\n",
    "Exception:\n",
    "\n",
    "    Arithmetic Error\n",
    "    \n",
    "        FloatpointError\n",
    "        \n",
    "        ZeroDivision Error\n",
    "        \n",
    "    Attribute Error\n",
    "    \n",
    "    SyntaxError\n",
    "    \n",
    "    RuntimeError\n",
    "    \n",
    "    TypeError\n",
    "    \n",
    "    ValueError\n",
    "    \n",
    "    Lookup error\n",
    "    \n",
    "        Key error\n",
    "        \n",
    "        Index error\n",
    " \n",
    "    "
   ]
  },
  {
   "cell_type": "code",
   "execution_count": 1,
   "id": "b94066df",
   "metadata": {},
   "outputs": [
    {
     "ename": "ValueError",
     "evalue": "custom exception",
     "output_type": "error",
     "traceback": [
      "\u001b[1;31m---------------------------------------------------------------------------\u001b[0m",
      "\u001b[1;31mValueError\u001b[0m                                Traceback (most recent call last)",
      "Cell \u001b[1;32mIn[1], line 1\u001b[0m\n\u001b[1;32m----> 1\u001b[0m \u001b[38;5;28;01mraise\u001b[39;00m \u001b[38;5;167;01mValueError\u001b[39;00m(\u001b[38;5;124m\"\u001b[39m\u001b[38;5;124mcustom exception\u001b[39m\u001b[38;5;124m\"\u001b[39m)\n",
      "\u001b[1;31mValueError\u001b[0m: custom exception"
     ]
    }
   ],
   "source": [
    "raise ValueError(\"custom exception\")"
   ]
  },
  {
   "cell_type": "code",
   "execution_count": 3,
   "id": "f43dca01",
   "metadata": {},
   "outputs": [
    {
     "name": "stdout",
     "output_type": "stream",
     "text": [
      "value error occured\n"
     ]
    }
   ],
   "source": [
    "try:\n",
    "    raise ValueError()\n",
    "except ValueError:\n",
    "    print(\"value error occured\")\n",
    "except KeyError:\n",
    "    print(\"key error\")"
   ]
  },
  {
   "cell_type": "code",
   "execution_count": 30,
   "id": "3bde9b91",
   "metadata": {},
   "outputs": [],
   "source": [
    "import json\n",
    "\n",
    "json_data = \"\"\"{\n",
    "\"kkma\":{\"age\": 12},\n",
    "\"kkb\":{\"age\": 21,\"city\":\"kanpur\"},\n",
    "\"kkc\":{\"age\":\"unknows\"}\n",
    "}\n",
    "\n",
    "\"\"\""
   ]
  },
  {
   "cell_type": "code",
   "execution_count": 31,
   "id": "38d5997f",
   "metadata": {},
   "outputs": [],
   "source": [
    "data = json.loads(json_data)"
   ]
  },
  {
   "cell_type": "code",
   "execution_count": 32,
   "id": "66d87598",
   "metadata": {},
   "outputs": [
    {
     "data": {
      "text/plain": [
       "{'kkma': {'age': 12},\n",
       " 'kkb': {'age': 21, 'city': 'kanpur'},\n",
       " 'kkc': {'age': 'unknows'}}"
      ]
     },
     "execution_count": 32,
     "metadata": {},
     "output_type": "execute_result"
    }
   ],
   "source": [
    "data"
   ]
  },
  {
   "cell_type": "code",
   "execution_count": 33,
   "id": "cb12d4dc",
   "metadata": {},
   "outputs": [],
   "source": [
    "class Person():\n",
    "    __slots__ =  'name','_age'\n",
    "    \n",
    "    def __init__(self,name):\n",
    "        self.name=name\n",
    "        self._age = None\n",
    "        \n",
    "    @property\n",
    "    def age(self):\n",
    "        return self._age\n",
    "    \n",
    "    @age.setter\n",
    "    def age(self,value):\n",
    "        if isinstance(value,int) and value >= 0:\n",
    "            self._age = value\n",
    "        else:\n",
    "            raise ValueError(\"age is invalid\")\n",
    "    \n",
    "    def __repr__(self):\n",
    "        return f\"Person((Name={self.name},age={self.age}))\""
   ]
  },
  {
   "cell_type": "code",
   "execution_count": 34,
   "id": "abb61dff",
   "metadata": {},
   "outputs": [
    {
     "name": "stdout",
     "output_type": "stream",
     "text": [
      "ignoring attribute of kkb i.e. city=kanpur\n",
      "Data for Person kkc is having invalid data value age is invalid\n"
     ]
    }
   ],
   "source": [
    "persons = []\n",
    "for name , attributes in data.items():\n",
    "    try:\n",
    "        p = Person(name)\n",
    "        for attribute_key , attribute_value in attributes.items():\n",
    "            try:\n",
    "                setattr(p,attribute_key,attribute_value)\n",
    "            except AttributeError:\n",
    "                print(f\"ignoring attribute of {name} i.e. {attribute_key}={attribute_value}\")\n",
    "    except ValueError as ex :\n",
    "        print(f\"Data for Person {name} is having invalid data value {ex}\")\n",
    "    else:\n",
    "        persons.append(p)"
   ]
  },
  {
   "cell_type": "code",
   "execution_count": 35,
   "id": "5fbe062b",
   "metadata": {},
   "outputs": [
    {
     "data": {
      "text/plain": [
       "mappingproxy({'__module__': '__main__',\n",
       "              '__slots__': ('name', '_age'),\n",
       "              '__init__': <function __main__.Person.__init__(self, name)>,\n",
       "              'age': <property at 0x21a7b73e2a0>,\n",
       "              '__repr__': <function __main__.Person.__repr__(self)>,\n",
       "              '_age': <member '_age' of 'Person' objects>,\n",
       "              'name': <member 'name' of 'Person' objects>,\n",
       "              '__doc__': None})"
      ]
     },
     "execution_count": 35,
     "metadata": {},
     "output_type": "execute_result"
    }
   ],
   "source": [
    "Person.__dict__"
   ]
  },
  {
   "cell_type": "code",
   "execution_count": 36,
   "id": "684ece90",
   "metadata": {},
   "outputs": [
    {
     "data": {
      "text/plain": [
       "Person((Name=kkc,age=None))"
      ]
     },
     "execution_count": 36,
     "metadata": {},
     "output_type": "execute_result"
    }
   ],
   "source": [
    "p"
   ]
  },
  {
   "cell_type": "code",
   "execution_count": null,
   "id": "38cae940",
   "metadata": {},
   "outputs": [],
   "source": []
  }
 ],
 "metadata": {
  "kernelspec": {
   "display_name": "Python 3 (ipykernel)",
   "language": "python",
   "name": "python3"
  },
  "language_info": {
   "codemirror_mode": {
    "name": "ipython",
    "version": 3
   },
   "file_extension": ".py",
   "mimetype": "text/x-python",
   "name": "python",
   "nbconvert_exporter": "python",
   "pygments_lexer": "ipython3",
   "version": "3.11.2"
  }
 },
 "nbformat": 4,
 "nbformat_minor": 5
}
